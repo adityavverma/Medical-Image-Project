{
 "cells": [
  {
   "cell_type": "markdown",
   "id": "7852cd53",
   "metadata": {
    "_cell_guid": "b1076dfc-b9ad-4769-8c92-a6c4dae69d19",
    "_uuid": "8f2839f25d086af736a60e9eeb907d3b93b6e0e5",
    "execution": {
     "iopub.execute_input": "2021-07-18T04:22:55.956524Z",
     "iopub.status.busy": "2021-07-18T04:22:55.955919Z",
     "iopub.status.idle": "2021-07-18T04:22:56.527271Z",
     "shell.execute_reply": "2021-07-18T04:22:56.526277Z",
     "shell.execute_reply.started": "2021-07-18T04:22:55.956406Z"
    },
    "papermill": {
     "duration": 0.015324,
     "end_time": "2021-07-27T01:54:14.209401",
     "exception": false,
     "start_time": "2021-07-27T01:54:14.194077",
     "status": "completed"
    },
    "tags": []
   },
   "source": [
    "# Import things"
   ]
  },
  {
   "cell_type": "code",
   "execution_count": 1,
   "id": "162d7686",
   "metadata": {
    "execution": {
     "iopub.execute_input": "2021-07-27T01:54:14.239569Z",
     "iopub.status.busy": "2021-07-27T01:54:14.238050Z",
     "iopub.status.idle": "2021-07-27T01:54:16.731744Z",
     "shell.execute_reply": "2021-07-27T01:54:16.732603Z",
     "shell.execute_reply.started": "2021-07-26T06:28:23.920926Z"
    },
    "papermill": {
     "duration": 2.511038,
     "end_time": "2021-07-27T01:54:16.732936",
     "exception": false,
     "start_time": "2021-07-27T01:54:14.221898",
     "status": "completed"
    },
    "tags": []
   },
   "outputs": [],
   "source": [
    "package_path = \"../input/efficientnet-pytorch/EfficientNet-PyTorch/EfficientNet-PyTorch-master/\"\n",
    "import sys \n",
    "sys.path.append(package_path)\n",
    "\n",
    "import os\n",
    "import glob\n",
    "import time\n",
    "import random\n",
    "\n",
    "import numpy as np\n",
    "import pandas as pd\n",
    "\n",
    "import pydicom\n",
    "from pydicom.pixel_data_handlers.util import apply_voi_lut\n",
    "import cv2\n",
    "import matplotlib.pyplot as plt\n",
    "\n",
    "import torch\n",
    "from torch import nn\n",
    "from torch.utils import data as torch_data\n",
    "from torch.nn import functional as F\n",
    "from torch.utils.data import Dataset, DataLoader\n",
    "\n",
    "import efficientnet_pytorch\n",
    "\n",
    "from sklearn.model_selection import StratifiedKFold"
   ]
  },
  {
   "cell_type": "code",
   "execution_count": 2,
   "id": "99e78ecf",
   "metadata": {
    "execution": {
     "iopub.execute_input": "2021-07-27T01:54:16.830290Z",
     "iopub.status.busy": "2021-07-27T01:54:16.829611Z",
     "iopub.status.idle": "2021-07-27T01:54:16.839001Z",
     "shell.execute_reply": "2021-07-27T01:54:16.839940Z",
     "shell.execute_reply.started": "2021-07-26T06:28:26.178204Z"
    },
    "papermill": {
     "duration": 0.085593,
     "end_time": "2021-07-27T01:54:16.840144",
     "exception": false,
     "start_time": "2021-07-27T01:54:16.754551",
     "status": "completed"
    },
    "tags": []
   },
   "outputs": [],
   "source": [
    "device = torch.device(\"cuda\" if torch.cuda.is_available() else \"cpu\")\n",
    "seed = 123\n",
    "\n",
    "def seed_everything(seed):\n",
    "    random.seed(seed)\n",
    "    os.environ['PYTHONHASHSEED'] = str(seed)\n",
    "    np.random.seed(seed)\n",
    "    torch.manual_seed(seed)\n",
    "    torch.cuda.manual_seed(seed)\n",
    "    torch.backends.cudnn.deterministic = True\n",
    "    torch.backends.cudnn.benchmark = True\n",
    "\n",
    "seed_everything(seed)\n",
    "\n",
    "class CFG:\n",
    "    img_size = 256\n",
    "    n_frames = 10\n",
    "    \n",
    "    cnn_features = 256\n",
    "    lstm_hidden = 32\n",
    "    \n",
    "    n_fold = 5\n",
    "    n_epochs = 15"
   ]
  },
  {
   "cell_type": "markdown",
   "id": "3cf4cb47",
   "metadata": {
    "papermill": {
     "duration": 0.019677,
     "end_time": "2021-07-27T01:54:16.880385",
     "exception": false,
     "start_time": "2021-07-27T01:54:16.860708",
     "status": "completed"
    },
    "tags": []
   },
   "source": [
    "# Model"
   ]
  },
  {
   "cell_type": "code",
   "execution_count": 3,
   "id": "440e6846",
   "metadata": {
    "execution": {
     "iopub.execute_input": "2021-07-27T01:54:16.930029Z",
     "iopub.status.busy": "2021-07-27T01:54:16.929187Z",
     "iopub.status.idle": "2021-07-27T01:54:16.938092Z",
     "shell.execute_reply": "2021-07-27T01:54:16.939024Z",
     "shell.execute_reply.started": "2021-07-26T06:28:26.242949Z"
    },
    "papermill": {
     "duration": 0.038858,
     "end_time": "2021-07-27T01:54:16.939222",
     "exception": false,
     "start_time": "2021-07-27T01:54:16.900364",
     "status": "completed"
    },
    "tags": []
   },
   "outputs": [],
   "source": [
    "class CNN(nn.Module):\n",
    "    def __init__(self):\n",
    "        super().__init__()\n",
    "        self.map = nn.Conv2d(in_channels=4, out_channels=3, kernel_size=1)\n",
    "        self.net = efficientnet_pytorch.EfficientNet.from_name(\"efficientnet-b0\")\n",
    "        checkpoint = torch.load(\"../input/efficientnet-pytorch/efficientnet-b0-08094119.pth\")\n",
    "        self.net.load_state_dict(checkpoint)\n",
    "        \n",
    "        n_features = self.net._fc.in_features\n",
    "        self.net._fc = nn.Linear(in_features=n_features, out_features=CFG.cnn_features, bias=True)\n",
    "    \n",
    "    def forward(self, x):\n",
    "        x = F.relu(self.map(x))\n",
    "        out = self.net(x)\n",
    "        return out\n",
    "\n",
    "class Model(nn.Module):\n",
    "    def __init__(self):\n",
    "        super(Model, self).__init__()\n",
    "        self.cnn = CNN()\n",
    "        self.rnn = nn.LSTM(CFG.cnn_features, CFG.lstm_hidden, 2, batch_first=True)\n",
    "        self.fc = nn.Linear(CFG.lstm_hidden, 1, bias=True)\n",
    "\n",
    "    def forward(self, x):\n",
    "        # x shape: BxTxCxHxW\n",
    "        batch_size, timesteps, C, H, W = x.size()\n",
    "        c_in = x.view(batch_size * timesteps, C, H, W)\n",
    "        c_out = self.cnn(c_in)\n",
    "        r_in = c_out.view(batch_size, timesteps, -1)\n",
    "        output, (hn, cn) = self.rnn(r_in)\n",
    "        \n",
    "        out = self.fc(hn[-1])\n",
    "        return out"
   ]
  },
  {
   "cell_type": "code",
   "execution_count": 4,
   "id": "38cfb164",
   "metadata": {
    "execution": {
     "iopub.execute_input": "2021-07-27T01:54:16.985796Z",
     "iopub.status.busy": "2021-07-27T01:54:16.983825Z",
     "iopub.status.idle": "2021-07-27T01:54:16.986655Z",
     "shell.execute_reply": "2021-07-27T01:54:16.987396Z",
     "shell.execute_reply.started": "2021-07-26T06:28:26.255768Z"
    },
    "papermill": {
     "duration": 0.028322,
     "end_time": "2021-07-27T01:54:16.987788",
     "exception": false,
     "start_time": "2021-07-27T01:54:16.959466",
     "status": "completed"
    },
    "tags": []
   },
   "outputs": [],
   "source": [
    "# model = Model()\n",
    "# x = torch.zeros((1, 15, 4, 256, 256))\n",
    "# t = time.time()\n",
    "# out = model(x)\n",
    "# print(time.time()-t)\n",
    "# print(out.shape)"
   ]
  },
  {
   "cell_type": "markdown",
   "id": "c989c1e6",
   "metadata": {
    "papermill": {
     "duration": 0.021214,
     "end_time": "2021-07-27T01:54:17.030413",
     "exception": false,
     "start_time": "2021-07-27T01:54:17.009199",
     "status": "completed"
    },
    "tags": []
   },
   "source": [
    "# Data Processing"
   ]
  },
  {
   "cell_type": "code",
   "execution_count": 5,
   "id": "784d82bc",
   "metadata": {
    "execution": {
     "iopub.execute_input": "2021-07-27T01:54:17.085199Z",
     "iopub.status.busy": "2021-07-27T01:54:17.084355Z",
     "iopub.status.idle": "2021-07-27T01:54:17.088816Z",
     "shell.execute_reply": "2021-07-27T01:54:17.089971Z",
     "shell.execute_reply.started": "2021-07-26T06:28:26.267279Z"
    },
    "papermill": {
     "duration": 0.037059,
     "end_time": "2021-07-27T01:54:17.090180",
     "exception": false,
     "start_time": "2021-07-27T01:54:17.053121",
     "status": "completed"
    },
    "tags": []
   },
   "outputs": [],
   "source": [
    "def load_image(path):\n",
    "    image = cv2.imread(path, 0)\n",
    "    if image is None:\n",
    "        return np.zeros((CFG.img_size, CFG.img_size))\n",
    "    \n",
    "    image = cv2.resize(image, (CFG.img_size, CFG.img_size)) / 255\n",
    "    return image.astype('f')\n",
    "\n",
    "def uniform_temporal_subsample(x, num_samples):\n",
    "    '''\n",
    "        Moddified from https://github.com/facebookresearch/pytorchvideo/blob/d7874f788bc00a7badfb4310a912f6e531ffd6d3/pytorchvideo/transforms/functional.py#L19\n",
    "        Args:\n",
    "            x: input list\n",
    "            num_samples: The number of equispaced samples to be selected\n",
    "        Returns:\n",
    "            Output list     \n",
    "    '''\n",
    "    t = len(x)\n",
    "    indices = torch.linspace(0, t - 1, num_samples)\n",
    "    indices = torch.clamp(indices, 0, t - 1).long()\n",
    "    return [x[i] for i in indices]"
   ]
  },
  {
   "cell_type": "code",
   "execution_count": 6,
   "id": "03739c71",
   "metadata": {
    "execution": {
     "iopub.execute_input": "2021-07-27T01:54:17.147934Z",
     "iopub.status.busy": "2021-07-27T01:54:17.146829Z",
     "iopub.status.idle": "2021-07-27T01:54:17.160844Z",
     "shell.execute_reply": "2021-07-27T01:54:17.161385Z",
     "shell.execute_reply.started": "2021-07-26T06:28:26.277813Z"
    },
    "papermill": {
     "duration": 0.048452,
     "end_time": "2021-07-27T01:54:17.161630",
     "exception": false,
     "start_time": "2021-07-27T01:54:17.113178",
     "status": "completed"
    },
    "tags": []
   },
   "outputs": [],
   "source": [
    "class DataRetriever(Dataset):\n",
    "    def __init__(self, paths, targets, transform=None):\n",
    "        self.paths = paths\n",
    "        self.targets = targets\n",
    "        self.transform = transform\n",
    "          \n",
    "    def __len__(self):\n",
    "        return len(self.paths)\n",
    "    \n",
    "    def read_video(self, vid_paths):\n",
    "        video = [load_image(path) for path in vid_paths]\n",
    "        if self.transform:\n",
    "            seed = random.randint(0,99999)\n",
    "            for i in range(len(video)):\n",
    "                random.seed(seed)\n",
    "                video[i] = self.transform(image=video[i])[\"image\"]\n",
    "        \n",
    "        video = [torch.tensor(frame, dtype=torch.float32) for frame in video]\n",
    "        if len(video)==0:\n",
    "            video = torch.zeros(CFG.n_frames, CFG.img_size, CFG.img_size)\n",
    "        else:\n",
    "            video = torch.stack(video) # T * C * H * W\n",
    "#         video = torch.transpose(video, 0, 1) # C * T * H * W\n",
    "        return video\n",
    "    \n",
    "    def __getitem__(self, index):\n",
    "        _id = self.paths[index]\n",
    "        patient_path = f\"../input/rsna-miccai-png/train/{str(_id).zfill(5)}/\"\n",
    "        channels = []\n",
    "        for t in [\"FLAIR\", \"T1w\", \"T1wCE\", \"T2w\"]:\n",
    "            t_paths = sorted(\n",
    "                glob.glob(os.path.join(patient_path, t, \"*\")), \n",
    "                key=lambda x: int(x[:-4].split(\"-\")[-1]),\n",
    "            )\n",
    "            num_samples = CFG.n_frames\n",
    "            if len(t_paths) < num_samples:\n",
    "                in_frames_path = t_paths\n",
    "            else:\n",
    "                in_frames_path = uniform_temporal_subsample(t_paths, num_samples)\n",
    "            \n",
    "            channel = self.read_video(in_frames_path)\n",
    "            if channel.shape[0] == 0:\n",
    "                print(\"1 channel empty\")\n",
    "                channel = torch.zeros(num_samples, CFG.img_size, CFG.img_size)\n",
    "            channels.append(channel)\n",
    "            \n",
    "        channels = torch.stack(channels).transpose(0,1)\n",
    "        \n",
    "        y = torch.tensor(self.targets[index], dtype=torch.float)\n",
    "        return {\"X\": channels.float(), \"y\": y}"
   ]
  },
  {
   "cell_type": "code",
   "execution_count": 7,
   "id": "e3f9bfe9",
   "metadata": {
    "execution": {
     "iopub.execute_input": "2021-07-27T01:54:17.201357Z",
     "iopub.status.busy": "2021-07-27T01:54:17.200633Z",
     "iopub.status.idle": "2021-07-27T01:54:18.223306Z",
     "shell.execute_reply": "2021-07-27T01:54:18.222389Z",
     "shell.execute_reply.started": "2021-07-26T06:28:26.293833Z"
    },
    "papermill": {
     "duration": 1.040624,
     "end_time": "2021-07-27T01:54:18.223440",
     "exception": false,
     "start_time": "2021-07-27T01:54:17.182816",
     "status": "completed"
    },
    "tags": []
   },
   "outputs": [],
   "source": [
    "import albumentations as A\n",
    "from albumentations.pytorch import ToTensorV2\n",
    "\n",
    "train_transform = A.Compose([\n",
    "                                A.HorizontalFlip(p=0.5),\n",
    "                                A.ShiftScaleRotate(\n",
    "                                    shift_limit=0.0625, \n",
    "                                    scale_limit=0.1, \n",
    "                                    rotate_limit=10, \n",
    "                                    p=0.5\n",
    "                                ),\n",
    "                                A.RandomBrightnessContrast(p=0.5),\n",
    "                            ])\n",
    "valid_transform = A.Compose([\n",
    "                            ])"
   ]
  },
  {
   "cell_type": "code",
   "execution_count": 8,
   "id": "1abfff98",
   "metadata": {
    "execution": {
     "iopub.execute_input": "2021-07-27T01:54:18.255996Z",
     "iopub.status.busy": "2021-07-27T01:54:18.254166Z",
     "iopub.status.idle": "2021-07-27T01:54:18.256594Z",
     "shell.execute_reply": "2021-07-27T01:54:18.257115Z",
     "shell.execute_reply.started": "2021-07-26T06:28:27.334503Z"
    },
    "papermill": {
     "duration": 0.020419,
     "end_time": "2021-07-27T01:54:18.257275",
     "exception": false,
     "start_time": "2021-07-27T01:54:18.236856",
     "status": "completed"
    },
    "tags": []
   },
   "outputs": [],
   "source": [
    "# data = DataRetriever(\n",
    "#         train_df[\"BraTS21ID\"].values, \n",
    "#         train_df[\"MGMT_value\"].values\n",
    "#     )\n",
    "# data[0]['X'].shape"
   ]
  },
  {
   "cell_type": "code",
   "execution_count": 9,
   "id": "d95e07b7",
   "metadata": {
    "execution": {
     "iopub.execute_input": "2021-07-27T01:54:18.287678Z",
     "iopub.status.busy": "2021-07-27T01:54:18.286956Z",
     "iopub.status.idle": "2021-07-27T01:54:18.316619Z",
     "shell.execute_reply": "2021-07-27T01:54:18.317178Z",
     "shell.execute_reply.started": "2021-07-26T06:28:27.341492Z"
    },
    "papermill": {
     "duration": 0.047313,
     "end_time": "2021-07-27T01:54:18.317344",
     "exception": false,
     "start_time": "2021-07-27T01:54:18.270031",
     "status": "completed"
    },
    "tags": []
   },
   "outputs": [
    {
     "data": {
      "text/html": [
       "<div>\n",
       "<style scoped>\n",
       "    .dataframe tbody tr th:only-of-type {\n",
       "        vertical-align: middle;\n",
       "    }\n",
       "\n",
       "    .dataframe tbody tr th {\n",
       "        vertical-align: top;\n",
       "    }\n",
       "\n",
       "    .dataframe thead th {\n",
       "        text-align: right;\n",
       "    }\n",
       "</style>\n",
       "<table border=\"1\" class=\"dataframe\">\n",
       "  <thead>\n",
       "    <tr style=\"text-align: right;\">\n",
       "      <th></th>\n",
       "      <th>BraTS21ID</th>\n",
       "      <th>MGMT_value</th>\n",
       "    </tr>\n",
       "  </thead>\n",
       "  <tbody>\n",
       "    <tr>\n",
       "      <th>0</th>\n",
       "      <td>0</td>\n",
       "      <td>1</td>\n",
       "    </tr>\n",
       "    <tr>\n",
       "      <th>1</th>\n",
       "      <td>2</td>\n",
       "      <td>1</td>\n",
       "    </tr>\n",
       "    <tr>\n",
       "      <th>2</th>\n",
       "      <td>3</td>\n",
       "      <td>0</td>\n",
       "    </tr>\n",
       "    <tr>\n",
       "      <th>3</th>\n",
       "      <td>5</td>\n",
       "      <td>1</td>\n",
       "    </tr>\n",
       "    <tr>\n",
       "      <th>4</th>\n",
       "      <td>6</td>\n",
       "      <td>1</td>\n",
       "    </tr>\n",
       "    <tr>\n",
       "      <th>5</th>\n",
       "      <td>8</td>\n",
       "      <td>1</td>\n",
       "    </tr>\n",
       "    <tr>\n",
       "      <th>6</th>\n",
       "      <td>9</td>\n",
       "      <td>0</td>\n",
       "    </tr>\n",
       "    <tr>\n",
       "      <th>7</th>\n",
       "      <td>11</td>\n",
       "      <td>1</td>\n",
       "    </tr>\n",
       "    <tr>\n",
       "      <th>8</th>\n",
       "      <td>12</td>\n",
       "      <td>1</td>\n",
       "    </tr>\n",
       "    <tr>\n",
       "      <th>9</th>\n",
       "      <td>14</td>\n",
       "      <td>1</td>\n",
       "    </tr>\n",
       "  </tbody>\n",
       "</table>\n",
       "</div>"
      ],
      "text/plain": [
       "   BraTS21ID  MGMT_value\n",
       "0          0           1\n",
       "1          2           1\n",
       "2          3           0\n",
       "3          5           1\n",
       "4          6           1\n",
       "5          8           1\n",
       "6          9           0\n",
       "7         11           1\n",
       "8         12           1\n",
       "9         14           1"
      ]
     },
     "execution_count": 9,
     "metadata": {},
     "output_type": "execute_result"
    }
   ],
   "source": [
    "df = pd.read_csv(\"../input/rsna-miccai-brain-tumor-radiogenomic-classification/train_labels.csv\")\n",
    "df.head(10)"
   ]
  },
  {
   "cell_type": "code",
   "execution_count": 10,
   "id": "c8f6c6fb",
   "metadata": {
    "execution": {
     "iopub.execute_input": "2021-07-27T01:54:18.348299Z",
     "iopub.status.busy": "2021-07-27T01:54:18.347295Z",
     "iopub.status.idle": "2021-07-27T01:54:18.351805Z",
     "shell.execute_reply": "2021-07-27T01:54:18.351207Z",
     "shell.execute_reply.started": "2021-07-26T06:28:27.372811Z"
    },
    "papermill": {
     "duration": 0.021303,
     "end_time": "2021-07-27T01:54:18.351956",
     "exception": false,
     "start_time": "2021-07-27T01:54:18.330653",
     "status": "completed"
    },
    "tags": []
   },
   "outputs": [],
   "source": [
    "# train_data = TrainDataRetriever(\n",
    "#     train_df[\"BraTS21ID\"].values, \n",
    "#     train_df[\"MGMT_value\"].values)\n",
    "# for idx, dat in enumerate(train_data):\n",
    "#     print('{} {} {}'.format(idx, dat['video'].shape, dat['label']))"
   ]
  },
  {
   "cell_type": "markdown",
   "id": "1b7e93d7",
   "metadata": {
    "papermill": {
     "duration": 0.013287,
     "end_time": "2021-07-27T01:54:18.379198",
     "exception": false,
     "start_time": "2021-07-27T01:54:18.365911",
     "status": "completed"
    },
    "tags": []
   },
   "source": [
    "# Training"
   ]
  },
  {
   "cell_type": "code",
   "execution_count": 11,
   "id": "0851f89a",
   "metadata": {
    "execution": {
     "iopub.execute_input": "2021-07-27T01:54:18.415802Z",
     "iopub.status.busy": "2021-07-27T01:54:18.414108Z",
     "iopub.status.idle": "2021-07-27T01:54:18.416443Z",
     "shell.execute_reply": "2021-07-27T01:54:18.416905Z",
     "shell.execute_reply.started": "2021-07-26T06:28:27.379061Z"
    },
    "papermill": {
     "duration": 0.024149,
     "end_time": "2021-07-27T01:54:18.417063",
     "exception": false,
     "start_time": "2021-07-27T01:54:18.392914",
     "status": "completed"
    },
    "tags": []
   },
   "outputs": [],
   "source": [
    "class LossMeter:\n",
    "    def __init__(self):\n",
    "        self.avg = 0\n",
    "        self.n = 0\n",
    "\n",
    "    def update(self, val):\n",
    "        self.n += 1\n",
    "        # incremental update\n",
    "        self.avg = val / self.n + (self.n - 1) / self.n * self.avg\n",
    "\n",
    "        \n",
    "class AccMeter:\n",
    "    def __init__(self):\n",
    "        self.avg = 0\n",
    "        self.n = 0\n",
    "        \n",
    "    def update(self, y_true, y_pred):\n",
    "        y_true = y_true.cpu().numpy().astype(int)\n",
    "        y_pred = y_pred.cpu().numpy() >= 0\n",
    "        last_n = self.n\n",
    "        self.n += len(y_true)\n",
    "        true_count = np.sum(y_true == y_pred)\n",
    "        # incremental update\n",
    "        self.avg = true_count / self.n + last_n / self.n * self.avg"
   ]
  },
  {
   "cell_type": "code",
   "execution_count": 12,
   "id": "58087f7c",
   "metadata": {
    "execution": {
     "iopub.execute_input": "2021-07-27T01:54:18.470698Z",
     "iopub.status.busy": "2021-07-27T01:54:18.468993Z",
     "iopub.status.idle": "2021-07-27T01:54:18.471368Z",
     "shell.execute_reply": "2021-07-27T01:54:18.471972Z",
     "shell.execute_reply.started": "2021-07-26T06:28:27.390594Z"
    },
    "papermill": {
     "duration": 0.041855,
     "end_time": "2021-07-27T01:54:18.472131",
     "exception": false,
     "start_time": "2021-07-27T01:54:18.430276",
     "status": "completed"
    },
    "tags": []
   },
   "outputs": [],
   "source": [
    "class Trainer:\n",
    "    def __init__(\n",
    "        self, \n",
    "        model, \n",
    "        device, \n",
    "        optimizer, \n",
    "        criterion, \n",
    "        loss_meter, \n",
    "        score_meter\n",
    "    ):\n",
    "        self.model = model\n",
    "        self.device = device\n",
    "        self.optimizer = optimizer\n",
    "        self.criterion = criterion\n",
    "        self.loss_meter = loss_meter\n",
    "        self.score_meter = score_meter\n",
    "        self.hist = {'val_loss':[],\n",
    "                     'val_score':[],\n",
    "                     'train_loss':[],\n",
    "                     'train_score':[]\n",
    "                    }\n",
    "        \n",
    "        self.best_valid_score = -np.inf\n",
    "        self.best_valid_loss = np.inf\n",
    "        self.n_patience = 0\n",
    "        \n",
    "        self.messages = {\n",
    "            \"epoch\": \"[Epoch {}: {}] loss: {:.5f}, score: {:.5f}, time: {} s\",\n",
    "            \"checkpoint\": \"The score improved from {:.5f} to {:.5f}. Save model to '{}'\",\n",
    "            \"patience\": \"\\nValid score didn't improve last {} epochs.\"\n",
    "        }\n",
    "    \n",
    "    def fit(self, epochs, train_loader, valid_loader, save_path, patience):        \n",
    "        for n_epoch in range(1, epochs + 1):\n",
    "            self.info_message(\"EPOCH: {}\", n_epoch)\n",
    "            \n",
    "            train_loss, train_score, train_time = self.train_epoch(train_loader)\n",
    "            valid_loss, valid_score, valid_time = self.valid_epoch(valid_loader)\n",
    "            self.hist['val_loss'].append(valid_loss)\n",
    "            self.hist['train_loss'].append(train_loss)\n",
    "            self.hist['val_score'].append(valid_score)\n",
    "            self.hist['train_score'].append(train_score)\n",
    "            \n",
    "            self.info_message(\n",
    "                self.messages[\"epoch\"], \"Train\", n_epoch, train_loss, train_score, train_time\n",
    "            )\n",
    "            \n",
    "            self.info_message(\n",
    "                self.messages[\"epoch\"], \"Valid\", n_epoch, valid_loss, valid_score, valid_time\n",
    "            )\n",
    "\n",
    "            if self.best_valid_score < valid_score:\n",
    "                self.info_message(\n",
    "                    self.messages[\"checkpoint\"], self.best_valid_score, valid_score, save_path\n",
    "                )\n",
    "                self.best_valid_score = valid_score\n",
    "                self.best_valid_loss = valid_loss\n",
    "                self.save_model(n_epoch, save_path)\n",
    "                self.n_patience = 0\n",
    "            else:\n",
    "                self.n_patience += 1\n",
    "            \n",
    "            if self.n_patience >= patience:\n",
    "                self.info_message(self.messages[\"patience\"], patience)\n",
    "                break\n",
    "                \n",
    "        return self.best_valid_loss, self.best_valid_score\n",
    "            \n",
    "    def train_epoch(self, train_loader):\n",
    "        self.model.train()\n",
    "        t = time.time()\n",
    "        train_loss = self.loss_meter()\n",
    "        train_score = self.score_meter()\n",
    "        \n",
    "        for step, batch in enumerate(train_loader, 1):\n",
    "            X = batch[\"X\"].to(self.device)\n",
    "            targets = batch[\"y\"].to(self.device)\n",
    "            self.optimizer.zero_grad()\n",
    "            outputs = self.model(X).squeeze(1)\n",
    "            \n",
    "            loss = self.criterion(outputs, targets)\n",
    "            loss.backward()\n",
    "\n",
    "            train_loss.update(loss.detach().item())\n",
    "            train_score.update(targets, outputs.detach())\n",
    "\n",
    "            self.optimizer.step()\n",
    "            \n",
    "            _loss, _score = train_loss.avg, train_score.avg\n",
    "            message = 'Train Step {}/{}, train_loss: {:.5f}, train_score: {:.5f}'\n",
    "            self.info_message(message, step, len(train_loader), _loss, _score, end=\"\\r\")\n",
    "        \n",
    "        return train_loss.avg, train_score.avg, int(time.time() - t)\n",
    "    \n",
    "    def valid_epoch(self, valid_loader):\n",
    "        self.model.eval()\n",
    "        t = time.time()\n",
    "        valid_loss = self.loss_meter()\n",
    "        valid_score = self.score_meter()\n",
    "\n",
    "        for step, batch in enumerate(valid_loader, 1):\n",
    "            with torch.no_grad():\n",
    "                X = batch[\"X\"].to(self.device)\n",
    "                targets = batch[\"y\"].to(self.device)\n",
    "\n",
    "                outputs = self.model(X).squeeze(1)\n",
    "                loss = self.criterion(outputs, targets)\n",
    "\n",
    "                valid_loss.update(loss.detach().item())\n",
    "                valid_score.update(targets, outputs)\n",
    "                \n",
    "            _loss, _score = valid_loss.avg, valid_score.avg\n",
    "            message = 'Valid Step {}/{}, valid_loss: {:.5f}, valid_score: {:.5f}'\n",
    "            self.info_message(message, step, len(valid_loader), _loss, _score, end=\"\\r\")\n",
    "        \n",
    "        return valid_loss.avg, valid_score.avg, int(time.time() - t)\n",
    "    \n",
    "    def plot_loss(self):\n",
    "        plt.title(\"Loss\")\n",
    "        plt.xlabel(\"Training Epochs\")\n",
    "        plt.ylabel(\"Loss\")\n",
    "\n",
    "        plt.plot(self.hist['train_loss'], label=\"Train\")\n",
    "        plt.plot(self.hist['val_loss'], label=\"Validation\")\n",
    "        plt.legend()\n",
    "        plt.show()\n",
    "    \n",
    "    def plot_score(self):\n",
    "        plt.title(\"Score\")\n",
    "        plt.xlabel(\"Training Epochs\")\n",
    "        plt.ylabel(\"Acc\")\n",
    "\n",
    "        plt.plot(self.hist['train_score'], label=\"Train\")\n",
    "        plt.plot(self.hist['val_score'], label=\"Validation\")\n",
    "        plt.legend()\n",
    "        plt.show()\n",
    "    \n",
    "    def save_model(self, n_epoch, save_path):\n",
    "        torch.save(\n",
    "            {\n",
    "                \"model_state_dict\": self.model.state_dict(),\n",
    "                \"optimizer_state_dict\": self.optimizer.state_dict(),\n",
    "                \"best_valid_score\": self.best_valid_score,\n",
    "                \"n_epoch\": n_epoch,\n",
    "            },\n",
    "            save_path,\n",
    "        )\n",
    "    \n",
    "    @staticmethod\n",
    "    def info_message(message, *args, end=\"\\n\"):\n",
    "        print(message.format(*args), end=end)"
   ]
  },
  {
   "cell_type": "code",
   "execution_count": 13,
   "id": "c0a2e906",
   "metadata": {
    "execution": {
     "iopub.execute_input": "2021-07-27T01:54:18.510576Z",
     "iopub.status.busy": "2021-07-27T01:54:18.510046Z",
     "iopub.status.idle": "2021-07-27T03:08:47.182874Z",
     "shell.execute_reply": "2021-07-27T03:08:47.182302Z",
     "shell.execute_reply.started": "2021-07-26T06:28:27.418155Z"
    },
    "papermill": {
     "duration": 4468.697918,
     "end_time": "2021-07-27T03:08:47.183020",
     "exception": false,
     "start_time": "2021-07-27T01:54:18.485102",
     "status": "completed"
    },
    "tags": []
   },
   "outputs": [
    {
     "name": "stdout",
     "output_type": "stream",
     "text": [
      "------------------------------\n",
      "Fold 1\n",
      "EPOCH: 1\n",
      "[Epoch Train: 1] loss: 0.69402, score: 0.52350, time: 56 s\n",
      "[Epoch Valid: 1] loss: 0.69223, score: 0.52991, time: 11 s\n",
      "The score improved from -inf to 0.52991. Save model to 'best-model-1.pth'\n",
      "EPOCH: 2\n",
      "[Epoch Train: 2] loss: 0.69267, score: 0.52350, time: 50 s\n",
      "[Epoch Valid: 2] loss: 0.69235, score: 0.52991, time: 9 s\n",
      "EPOCH: 3\n",
      "[Epoch Train: 3] loss: 0.69219, score: 0.51923, time: 49 s\n",
      "[Epoch Valid: 3] loss: 0.69237, score: 0.52991, time: 9 s\n",
      "EPOCH: 4\n",
      "[Epoch Train: 4] loss: 0.69240, score: 0.52350, time: 50 s\n",
      "[Epoch Valid: 4] loss: 0.69279, score: 0.52991, time: 9 s\n",
      "EPOCH: 5\n",
      "[Epoch Train: 5] loss: 0.68994, score: 0.52137, time: 50 s\n",
      "[Epoch Valid: 5] loss: 0.69418, score: 0.52991, time: 9 s\n",
      "EPOCH: 6\n",
      "[Epoch Train: 6] loss: 0.69170, score: 0.52991, time: 50 s\n",
      "[Epoch Valid: 6] loss: 0.69401, score: 0.52991, time: 9 s\n",
      "EPOCH: 7\n",
      "[Epoch Train: 7] loss: 0.68745, score: 0.53205, time: 50 s\n",
      "[Epoch Valid: 7] loss: 0.69700, score: 0.52137, time: 8 s\n",
      "EPOCH: 8\n",
      "[Epoch Train: 8] loss: 0.68660, score: 0.54915, time: 49 s\n",
      "[Epoch Valid: 8] loss: 0.69767, score: 0.48718, time: 9 s\n",
      "EPOCH: 9\n",
      "[Epoch Train: 9] loss: 0.68237, score: 0.54915, time: 50 s\n",
      "[Epoch Valid: 9] loss: 0.70667, score: 0.44444, time: 8 s\n",
      "EPOCH: 10\n",
      "[Epoch Train: 10] loss: 0.68640, score: 0.51923, time: 50 s\n",
      "[Epoch Valid: 10] loss: 0.70162, score: 0.45299, time: 9 s\n",
      "EPOCH: 11\n",
      "[Epoch Train: 11] loss: 0.69121, score: 0.52564, time: 49 s\n",
      "[Epoch Valid: 11] loss: 0.69864, score: 0.48718, time: 8 s\n",
      "EPOCH: 12\n",
      "[Epoch Train: 12] loss: 0.68701, score: 0.55128, time: 50 s\n",
      "[Epoch Valid: 12] loss: 0.70309, score: 0.43590, time: 8 s\n",
      "EPOCH: 13\n",
      "[Epoch Train: 13] loss: 0.68888, score: 0.53632, time: 50 s\n",
      "[Epoch Valid: 13] loss: 0.69871, score: 0.41880, time: 8 s\n",
      "EPOCH: 14\n",
      "[Epoch Train: 14] loss: 0.69012, score: 0.56624, time: 50 s\n",
      "[Epoch Valid: 14] loss: 0.69697, score: 0.50427, time: 8 s\n",
      "EPOCH: 15\n",
      "[Epoch Train: 15] loss: 0.68607, score: 0.54274, time: 49 s\n",
      "[Epoch Valid: 15] loss: 0.69748, score: 0.47009, time: 9 s\n"
     ]
    },
    {
     "data": {
      "image/png": "[encoded data removed]",
      "text/plain": [
       "<Figure size 432x288 with 1 Axes>"
      ]
     },
     "metadata": {
      "needs_background": "light"
     },
     "output_type": "display_data"
    },
    {
     "data": {
      "image/png": "[encoded data removed]",
      "text/plain": [
       "<Figure size 432x288 with 1 Axes>"
      ]
     },
     "metadata": {
      "needs_background": "light"
     },
     "output_type": "display_data"
    },
    {
     "name": "stdout",
     "output_type": "stream",
     "text": [
      "------------------------------\n",
      "Fold 2\n",
      "EPOCH: 1\n",
      "[Epoch Train: 1] loss: 0.68898, score: 0.53632, time: 51 s\n",
      "[Epoch Valid: 1] loss: 0.69074, score: 0.52991, time: 7 s\n",
      "The score improved from -inf to 0.52991. Save model to 'best-model-2.pth'\n",
      "EPOCH: 2\n",
      "[Epoch Train: 2] loss: 0.68131, score: 0.56838, time: 52 s\n",
      "[Epoch Valid: 2] loss: 0.69085, score: 0.51282, time: 7 s\n",
      "EPOCH: 3\n",
      "[Epoch Train: 3] loss: 0.67527, score: 0.58974, time: 51 s\n",
      "[Epoch Valid: 3] loss: 0.69514, score: 0.47009, time: 7 s\n",
      "EPOCH: 4\n",
      "[Epoch Train: 4] loss: 0.66353, score: 0.62179, time: 50 s\n",
      "[Epoch Valid: 4] loss: 0.70478, score: 0.45299, time: 8 s\n",
      "EPOCH: 5\n",
      "[Epoch Train: 5] loss: 0.66262, score: 0.61966, time: 51 s\n",
      "[Epoch Valid: 5] loss: 0.71312, score: 0.47863, time: 7 s\n",
      "EPOCH: 6\n",
      "[Epoch Train: 6] loss: 0.65474, score: 0.63034, time: 51 s\n",
      "[Epoch Valid: 6] loss: 0.71952, score: 0.48718, time: 7 s\n",
      "EPOCH: 7\n",
      "[Epoch Train: 7] loss: 0.66051, score: 0.61538, time: 51 s\n",
      "[Epoch Valid: 7] loss: 0.71497, score: 0.51282, time: 7 s\n",
      "EPOCH: 8\n",
      "[Epoch Train: 8] loss: 0.64643, score: 0.63462, time: 50 s\n",
      "[Epoch Valid: 8] loss: 0.74175, score: 0.48718, time: 7 s\n",
      "EPOCH: 9\n",
      "[Epoch Train: 9] loss: 0.63026, score: 0.65812, time: 50 s\n",
      "[Epoch Valid: 9] loss: 0.77113, score: 0.47009, time: 8 s\n",
      "EPOCH: 10\n",
      "[Epoch Train: 10] loss: 0.60702, score: 0.70513, time: 52 s\n",
      "[Epoch Valid: 10] loss: 0.81109, score: 0.47009, time: 7 s\n",
      "EPOCH: 11\n",
      "[Epoch Train: 11] loss: 0.61265, score: 0.68162, time: 52 s\n",
      "[Epoch Valid: 11] loss: 0.79286, score: 0.47009, time: 7 s\n",
      "EPOCH: 12\n",
      "[Epoch Train: 12] loss: 0.62087, score: 0.66239, time: 51 s\n",
      "[Epoch Valid: 12] loss: 0.78825, score: 0.45299, time: 8 s\n",
      "EPOCH: 13\n",
      "[Epoch Train: 13] loss: 0.60548, score: 0.68162, time: 51 s\n",
      "[Epoch Valid: 13] loss: 0.76259, score: 0.47863, time: 7 s\n",
      "EPOCH: 14\n",
      "[Epoch Train: 14] loss: 0.59806, score: 0.68162, time: 50 s\n",
      "[Epoch Valid: 14] loss: 0.83614, score: 0.48718, time: 8 s\n",
      "EPOCH: 15\n",
      "[Epoch Train: 15] loss: 0.58323, score: 0.72436, time: 50 s\n",
      "[Epoch Valid: 15] loss: 0.78189, score: 0.48718, time: 7 s\n"
     ]
    },
    {
     "data": {
      "image/png": "[encoded data removed]",
      "text/plain": [
       "<Figure size 432x288 with 1 Axes>"
      ]
     },
     "metadata": {
      "needs_background": "light"
     },
     "output_type": "display_data"
    },
    {
     "data": {
      "image/png": "[encoded data removed]",
      "text/plain": [
       "<Figure size 432x288 with 1 Axes>"
      ]
     },
     "metadata": {
      "needs_background": "light"
     },
     "output_type": "display_data"
    },
    {
     "name": "stdout",
     "output_type": "stream",
     "text": [
      "------------------------------\n",
      "Fold 3\n",
      "EPOCH: 1\n",
      "[Epoch Train: 1] loss: 0.69373, score: 0.52564, time: 52 s\n",
      "[Epoch Valid: 1] loss: 0.68951, score: 0.52137, time: 8 s\n",
      "The score improved from -inf to 0.52137. Save model to 'best-model-3.pth'\n",
      "EPOCH: 2\n",
      "[Epoch Train: 2] loss: 0.69294, score: 0.50427, time: 50 s\n",
      "[Epoch Valid: 2] loss: 0.68911, score: 0.52137, time: 8 s\n",
      "EPOCH: 3\n",
      "[Epoch Train: 3] loss: 0.69040, score: 0.52350, time: 50 s\n",
      "[Epoch Valid: 3] loss: 0.68648, score: 0.52137, time: 8 s\n",
      "EPOCH: 4\n",
      "[Epoch Train: 4] loss: 0.68742, score: 0.52991, time: 49 s\n",
      "[Epoch Valid: 4] loss: 0.67288, score: 0.52137, time: 9 s\n",
      "EPOCH: 5\n",
      "[Epoch Train: 5] loss: 0.68211, score: 0.57906, time: 50 s\n",
      "[Epoch Valid: 5] loss: 0.67040, score: 0.67521, time: 8 s\n",
      "The score improved from 0.52137 to 0.67521. Save model to 'best-model-3.pth'\n",
      "EPOCH: 6\n",
      "[Epoch Train: 6] loss: 0.67309, score: 0.60470, time: 52 s\n",
      "[Epoch Valid: 6] loss: 0.68552, score: 0.55556, time: 8 s\n",
      "EPOCH: 7\n",
      "[Epoch Train: 7] loss: 0.66389, score: 0.61966, time: 51 s\n",
      "[Epoch Valid: 7] loss: 0.66659, score: 0.52137, time: 8 s\n",
      "EPOCH: 8\n",
      "[Epoch Train: 8] loss: 0.65412, score: 0.61111, time: 51 s\n",
      "[Epoch Valid: 8] loss: 0.66746, score: 0.57265, time: 8 s\n",
      "EPOCH: 9\n",
      "[Epoch Train: 9] loss: 0.65207, score: 0.62179, time: 50 s\n",
      "[Epoch Valid: 9] loss: 0.71602, score: 0.51282, time: 8 s\n",
      "EPOCH: 10\n",
      "[Epoch Train: 10] loss: 0.63466, score: 0.63034, time: 50 s\n",
      "[Epoch Valid: 10] loss: 0.82293, score: 0.34188, time: 8 s\n",
      "EPOCH: 11\n",
      "[Epoch Train: 11] loss: 0.62950, score: 0.64957, time: 50 s\n",
      "[Epoch Valid: 11] loss: 0.76422, score: 0.52137, time: 8 s\n",
      "EPOCH: 12\n",
      "[Epoch Train: 12] loss: 0.62143, score: 0.67308, time: 51 s\n",
      "[Epoch Valid: 12] loss: 0.64956, score: 0.58974, time: 8 s\n",
      "EPOCH: 13\n",
      "[Epoch Train: 13] loss: 0.60522, score: 0.66026, time: 51 s\n",
      "[Epoch Valid: 13] loss: 0.77492, score: 0.52991, time: 8 s\n",
      "EPOCH: 14\n",
      "[Epoch Train: 14] loss: 0.57295, score: 0.72222, time: 49 s\n",
      "[Epoch Valid: 14] loss: 0.77291, score: 0.47863, time: 8 s\n",
      "EPOCH: 15\n",
      "[Epoch Train: 15] loss: 0.53368, score: 0.76068, time: 49 s\n",
      "[Epoch Valid: 15] loss: 0.81971, score: 0.52137, time: 9 s\n"
     ]
    },
    {
     "data": {
      "image/png": "[encoded data removed]",
      "text/plain": [
       "<Figure size 432x288 with 1 Axes>"
      ]
     },
     "metadata": {
      "needs_background": "light"
     },
     "output_type": "display_data"
    },
    {
     "data": {
      "image/png": "[encoded data removed]",
      "text/plain": [
       "<Figure size 432x288 with 1 Axes>"
      ]
     },
     "metadata": {
      "needs_background": "light"
     },
     "output_type": "display_data"
    },
    {
     "name": "stdout",
     "output_type": "stream",
     "text": [
      "------------------------------\n",
      "Fold 4\n",
      "EPOCH: 1\n",
      "[Epoch Train: 1] loss: 0.69017, score: 0.50641, time: 50 s\n",
      "[Epoch Valid: 1] loss: 0.69324, score: 0.46154, time: 9 s\n",
      "The score improved from -inf to 0.46154. Save model to 'best-model-4.pth'\n",
      "EPOCH: 2\n",
      "[Epoch Train: 2] loss: 0.68508, score: 0.53205, time: 50 s\n",
      "[Epoch Valid: 2] loss: 0.69034, score: 0.47863, time: 8 s\n",
      "The score improved from 0.46154 to 0.47863. Save model to 'best-model-4.pth'\n",
      "EPOCH: 3\n",
      "[Epoch Train: 3] loss: 0.67276, score: 0.58547, time: 50 s\n",
      "[Epoch Valid: 3] loss: 0.69848, score: 0.52137, time: 8 s\n",
      "The score improved from 0.47863 to 0.52137. Save model to 'best-model-4.pth'\n",
      "EPOCH: 4\n",
      "[Epoch Train: 4] loss: 0.66728, score: 0.59829, time: 49 s\n",
      "[Epoch Valid: 4] loss: 0.71004, score: 0.52137, time: 9 s\n",
      "EPOCH: 5\n",
      "[Epoch Train: 5] loss: 0.65867, score: 0.60684, time: 50 s\n",
      "[Epoch Valid: 5] loss: 0.73774, score: 0.52137, time: 9 s\n",
      "EPOCH: 6\n",
      "[Epoch Train: 6] loss: 0.64936, score: 0.63675, time: 50 s\n",
      "[Epoch Valid: 6] loss: 0.73750, score: 0.54701, time: 9 s\n",
      "The score improved from 0.52137 to 0.54701. Save model to 'best-model-4.pth'\n",
      "EPOCH: 7\n",
      "[Epoch Train: 7] loss: 0.64685, score: 0.61538, time: 50 s\n",
      "[Epoch Valid: 7] loss: 0.74872, score: 0.55556, time: 8 s\n",
      "The score improved from 0.54701 to 0.55556. Save model to 'best-model-4.pth'\n",
      "EPOCH: 8\n",
      "[Epoch Train: 8] loss: 0.63463, score: 0.63889, time: 51 s\n",
      "[Epoch Valid: 8] loss: 0.72845, score: 0.53846, time: 8 s\n",
      "EPOCH: 9\n",
      "[Epoch Train: 9] loss: 0.62733, score: 0.66026, time: 49 s\n",
      "[Epoch Valid: 9] loss: 0.78171, score: 0.51282, time: 9 s\n",
      "EPOCH: 10\n",
      "[Epoch Train: 10] loss: 0.61879, score: 0.66880, time: 49 s\n",
      "[Epoch Valid: 10] loss: 0.77700, score: 0.51282, time: 10 s\n",
      "EPOCH: 11\n",
      "[Epoch Train: 11] loss: 0.58614, score: 0.71795, time: 50 s\n",
      "[Epoch Valid: 11] loss: 0.80908, score: 0.52991, time: 8 s\n",
      "EPOCH: 12\n",
      "[Epoch Train: 12] loss: 0.59349, score: 0.70513, time: 50 s\n",
      "[Epoch Valid: 12] loss: 0.77775, score: 0.49573, time: 9 s\n",
      "EPOCH: 13\n",
      "[Epoch Train: 13] loss: 0.59491, score: 0.69231, time: 51 s\n",
      "[Epoch Valid: 13] loss: 0.71884, score: 0.53846, time: 9 s\n",
      "EPOCH: 14\n",
      "[Epoch Train: 14] loss: 0.59160, score: 0.67521, time: 49 s\n",
      "[Epoch Valid: 14] loss: 0.79620, score: 0.52137, time: 9 s\n",
      "EPOCH: 15\n",
      "[Epoch Train: 15] loss: 0.56288, score: 0.70299, time: 50 s\n",
      "[Epoch Valid: 15] loss: 0.82065, score: 0.47009, time: 8 s\n"
     ]
    },
    {
     "data": {
      "image/png": "[encoded data removed]",
      "text/plain": [
       "<Figure size 432x288 with 1 Axes>"
      ]
     },
     "metadata": {
      "needs_background": "light"
     },
     "output_type": "display_data"
    },
    {
     "data": {
      "image/png": "[encoded data removed]",
      "text/plain": [
       "<Figure size 432x288 with 1 Axes>"
      ]
     },
     "metadata": {
      "needs_background": "light"
     },
     "output_type": "display_data"
    },
    {
     "name": "stdout",
     "output_type": "stream",
     "text": [
      "------------------------------\n",
      "Fold 5\n",
      "EPOCH: 1\n",
      "[Epoch Train: 1] loss: 0.68971, score: 0.54274, time: 50 s\n",
      "[Epoch Valid: 1] loss: 0.69384, score: 0.52137, time: 9 s\n",
      "The score improved from -inf to 0.52137. Save model to 'best-model-5.pth'\n",
      "EPOCH: 2\n",
      "[Epoch Train: 2] loss: 0.68015, score: 0.57692, time: 50 s\n",
      "[Epoch Valid: 2] loss: 0.69604, score: 0.52137, time: 8 s\n",
      "EPOCH: 3\n",
      "[Epoch Train: 3] loss: 0.67434, score: 0.58547, time: 50 s\n",
      "[Epoch Valid: 3] loss: 0.69345, score: 0.52137, time: 9 s\n",
      "EPOCH: 4\n",
      "[Epoch Train: 4] loss: 0.66790, score: 0.60043, time: 48 s\n",
      "[Epoch Valid: 4] loss: 0.70729, score: 0.52137, time: 9 s\n",
      "EPOCH: 5\n",
      "[Epoch Train: 5] loss: 0.65999, score: 0.60470, time: 49 s\n",
      "[Epoch Valid: 5] loss: 0.70725, score: 0.52137, time: 9 s\n",
      "EPOCH: 6\n",
      "[Epoch Train: 6] loss: 0.66110, score: 0.60470, time: 49 s\n",
      "[Epoch Valid: 6] loss: 0.70412, score: 0.54701, time: 8 s\n",
      "The score improved from 0.52137 to 0.54701. Save model to 'best-model-5.pth'\n",
      "EPOCH: 7\n",
      "[Epoch Train: 7] loss: 0.65373, score: 0.63462, time: 51 s\n",
      "[Epoch Valid: 7] loss: 0.71709, score: 0.52991, time: 8 s\n",
      "EPOCH: 8\n",
      "[Epoch Train: 8] loss: 0.63902, score: 0.64316, time: 51 s\n",
      "[Epoch Valid: 8] loss: 0.70881, score: 0.52137, time: 9 s\n",
      "EPOCH: 9\n",
      "[Epoch Train: 9] loss: 0.63498, score: 0.64744, time: 51 s\n",
      "[Epoch Valid: 9] loss: 0.71647, score: 0.53846, time: 9 s\n",
      "EPOCH: 10\n",
      "[Epoch Train: 10] loss: 0.62298, score: 0.65385, time: 50 s\n",
      "[Epoch Valid: 10] loss: 0.72055, score: 0.54701, time: 9 s\n",
      "EPOCH: 11\n",
      "[Epoch Train: 11] loss: 0.62836, score: 0.66453, time: 49 s\n",
      "[Epoch Valid: 11] loss: 0.73030, score: 0.54701, time: 9 s\n",
      "EPOCH: 12\n",
      "[Epoch Train: 12] loss: 0.63412, score: 0.66239, time: 50 s\n",
      "[Epoch Valid: 12] loss: 0.72236, score: 0.55556, time: 8 s\n",
      "The score improved from 0.54701 to 0.55556. Save model to 'best-model-5.pth'\n",
      "EPOCH: 13\n",
      "[Epoch Train: 13] loss: 0.61879, score: 0.69017, time: 50 s\n",
      "[Epoch Valid: 13] loss: 0.72372, score: 0.53846, time: 9 s\n",
      "EPOCH: 14\n",
      "[Epoch Train: 14] loss: 0.61778, score: 0.67308, time: 50 s\n",
      "[Epoch Valid: 14] loss: 0.72976, score: 0.52137, time: 9 s\n",
      "EPOCH: 15\n",
      "[Epoch Train: 15] loss: 0.61878, score: 0.67735, time: 51 s\n",
      "[Epoch Valid: 15] loss: 0.72230, score: 0.52137, time: 9 s\n"
     ]
    },
    {
     "data": {
      "image/png": "[encoded data removed]",
      "text/plain": [
       "<Figure size 432x288 with 1 Axes>"
      ]
     },
     "metadata": {
      "needs_background": "light"
     },
     "output_type": "display_data"
    },
    {
     "data": {
      "image/png": "[encoded data removed]",
      "text/plain": [
       "<Figure size 432x288 with 1 Axes>"
      ]
     },
     "metadata": {
      "needs_background": "light"
     },
     "output_type": "display_data"
    },
    {
     "name": "stdout",
     "output_type": "stream",
     "text": [
      "\n",
      "Training complete in 74m 29s\n",
      "Avg loss 0.7048898291587828\n",
      "Avg score 0.5692307692307692\n"
     ]
    }
   ],
   "source": [
    "skf = StratifiedKFold(n_splits=CFG.n_fold)\n",
    "t = df['MGMT_value']\n",
    "\n",
    "start_time = time.time()\n",
    "\n",
    "losses = []\n",
    "scores = []\n",
    "\n",
    "for fold, (train_index, val_index) in enumerate(skf.split(np.zeros(len(t)), t), 1):\n",
    "    print('-'*30)\n",
    "    print(f\"Fold {fold}\")\n",
    "    \n",
    "    train_df = df.loc[train_index]\n",
    "    val_df = df.loc[val_index]\n",
    "    train_retriever = DataRetriever(\n",
    "        train_df[\"BraTS21ID\"].values, \n",
    "        train_df[\"MGMT_value\"].values,\n",
    "        train_transform\n",
    "    )\n",
    "    val_retriever = DataRetriever(\n",
    "        val_df[\"BraTS21ID\"].values, \n",
    "        val_df[\"MGMT_value\"].values\n",
    "    )\n",
    "    train_loader = torch_data.DataLoader(\n",
    "        train_retriever,\n",
    "        batch_size=8,\n",
    "        shuffle=True,\n",
    "        num_workers=8,\n",
    "    )\n",
    "    valid_loader = torch_data.DataLoader(\n",
    "        val_retriever, \n",
    "        batch_size=8,\n",
    "        shuffle=False,\n",
    "        num_workers=8,\n",
    "    )\n",
    "    \n",
    "    model = Model()\n",
    "    model.to(device)\n",
    "    \n",
    "    optimizer = torch.optim.Adam(model.parameters(), lr=0.0001)\n",
    "    criterion = F.binary_cross_entropy_with_logits\n",
    "    \n",
    "    trainer = Trainer(\n",
    "        model, \n",
    "        device, \n",
    "        optimizer, \n",
    "        criterion, \n",
    "        LossMeter, \n",
    "        AccMeter\n",
    "    )\n",
    "    loss, score = trainer.fit(\n",
    "        CFG.n_epochs, \n",
    "        train_loader, \n",
    "        valid_loader, \n",
    "        f\"best-model-{fold}.pth\", \n",
    "        100,\n",
    "    )\n",
    "    losses.append(loss)\n",
    "    scores.append(score)\n",
    "    \n",
    "    trainer.plot_loss()\n",
    "    trainer.plot_score()\n",
    "    \n",
    "elapsed_time = time.time() - start_time\n",
    "print('\\nTraining complete in {:.0f}m {:.0f}s'.format(elapsed_time // 60, elapsed_time % 60))\n",
    "print('Avg loss {}'.format(np.mean(losses)))\n",
    "print('Avg score {}'.format(np.mean(scores)))"
   ]
  }
 ],
 "metadata": {
  "kernelspec": {
   "display_name": "Python 3",
   "language": "python",
   "name": "python3"
  },
  "language_info": {
   "codemirror_mode": {
    "name": "ipython",
    "version": 3
   },
   "file_extension": ".py",
   "mimetype": "text/x-python",
   "name": "python",
   "nbconvert_exporter": "python",
   "pygments_lexer": "ipython3",
   "version": "3.7.10"
  },
  "papermill": {
   "default_parameters": {},
   "duration": 4483.346217,
   "end_time": "2021-07-27T03:08:50.533898",
   "environment_variables": {},
   "exception": null,
   "input_path": "__notebook__.ipynb",
   "output_path": "__notebook__.ipynb",
   "parameters": {},
   "start_time": "2021-07-27T01:54:07.187681",
   "version": "2.3.3"
  }
 },
 "nbformat": 4,
 "nbformat_minor": 5
}
